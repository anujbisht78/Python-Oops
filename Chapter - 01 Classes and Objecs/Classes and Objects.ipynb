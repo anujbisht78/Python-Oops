{
 "cells": [
  {
   "cell_type": "markdown",
   "id": "a660bade",
   "metadata": {},
   "source": [
    "## Class\n",
    "- A class is a collection of objects. A class contains the blueprints or the prototype from which the objects are being created. It is a logical entity that contains some attributes and methods. "
   ]
  },
  {
   "cell_type": "markdown",
   "id": "7c5f805f",
   "metadata": {},
   "source": [
    "## Object\n",
    "- An object is an Instance of Class\n",
    "- The object is an entity that has a state and behavior associated with it. It may be any real-world object like a mouse, keyboard, chair, table, pen, etc. Integers, strings, floating-point numbers, even arrays, and dictionaries, are all objects"
   ]
  },
  {
   "cell_type": "markdown",
   "id": "ec15da25",
   "metadata": {},
   "source": [
    "### Creating a Bank Application "
   ]
  },
  {
   "cell_type": "code",
   "execution_count": 5,
   "id": "0415674b",
   "metadata": {},
   "outputs": [],
   "source": [
    "class Atm:\n",
    "\n",
    "    def __init__(self):\n",
    "        self.pin = \"\"\n",
    "        self.balance = 0\n",
    "\n",
    "        self.menu()\n",
    "\n",
    "    def menu(self):\n",
    "        user_input = input(\"\"\"\n",
    "              Hi how can i help you?\n",
    "              1. Press 1 to create pin \n",
    "              2. press 2 to change pin\n",
    "              3. press 3 to check balance\n",
    "              4. press 4 to withdraw\n",
    "              5. press 5 to exit\n",
    "              Enter your Option\n",
    "              \"\"\")\n",
    "        if user_input == \"1\":\n",
    "            # create pin\n",
    "            self.create_pin()\n",
    "        elif user_input == \"2\":\n",
    "            # change pin\n",
    "            self.change_pin()\n",
    "        elif user_input == \"3\":\n",
    "            # check balance\n",
    "            self.check_balance()\n",
    "        elif user_input == \"4\":\n",
    "            # withdraw\n",
    "            self.withdraw()\n",
    "        else:\n",
    "            exit()\n",
    "\n",
    "    def create_pin(self):\n",
    "        user_pin = input(\"Enter the pin: \")\n",
    "        self.pin = user_pin\n",
    "\n",
    "        user_balace = int(input(\"Enter balance: \"))\n",
    "        self.balance = user_balace\n",
    "\n",
    "        print(\"pin created succesfully\")\n",
    "        self.menu()\n",
    "\n",
    "    def change_pin(self):\n",
    "        old_pin = input(\"Enter the old pin: \")\n",
    "        if old_pin == self.pin:\n",
    "            # Let him change\n",
    "            new_pin = input(\"Enter new pin: \")\n",
    "            self.pin = new_pin\n",
    "            print(\"pin changes successfull\")\n",
    "            self.menu()\n",
    "        else:\n",
    "            print(\"Cannot change!\")\n",
    "            self.menu()  # to call it again\n",
    "\n",
    "    def check_balance(self):\n",
    "        user_pin = input(\"Enter your pin: \")\n",
    "        if user_pin == self.pin:\n",
    "            print(\"Your Balance is : \", self.balance)\n",
    "        else:\n",
    "            print(\"incorrect pin!\")\n",
    "        self.menu()\n",
    "\n",
    "    def withdraw(self):\n",
    "        user_pin = input(\"Enter your pin: \")\n",
    "        if user_pin == self.pin:\n",
    "            withdraw_balance = int(input(\"How much you want to withdraw: \"))\n",
    "            if withdraw_balance > self.balance:\n",
    "                print(\"Insuccificient Balance!\")\n",
    "                print(\"Current Blance: \", self.balance)\n",
    "            else:\n",
    "                current_balance = self.balance-withdraw_balance\n",
    "                print(\"Withdrwal Successfully!\")\n",
    "                print(\"Current Balance: \", current_balance)\n",
    "        else:\n",
    "            print(\"Incorrect Pin!\")\n",
    "\n",
    "        self.menu()"
   ]
  },
  {
   "cell_type": "code",
   "execution_count": 6,
   "id": "a101746a",
   "metadata": {},
   "outputs": [
    {
     "name": "stdout",
     "output_type": "stream",
     "text": [
      "\n",
      "              Hi how can i help you?\n",
      "              1. Press 1 to create pin \n",
      "              2. press 2 to change pin\n",
      "              3. press 3 to check balance\n",
      "              4. press 4 to withdraw\n",
      "              5. press 5 to exit\n",
      "              Enter your Option\n",
      "              \n"
     ]
    }
   ],
   "source": [
    "obj = Atm()"
   ]
  },
  {
   "cell_type": "markdown",
   "id": "552ffc95",
   "metadata": {},
   "source": [
    "### Creating your own Data Type"
   ]
  },
  {
   "cell_type": "markdown",
   "id": "b9ade707",
   "metadata": {},
   "source": [
    "Fraction Class"
   ]
  },
  {
   "cell_type": "code",
   "execution_count": 1,
   "id": "354cec16",
   "metadata": {},
   "outputs": [],
   "source": [
    "class Fraction:\n",
    "\n",
    "    # parameterized Constructor  \n",
    "    # A constructor which requires inputs\n",
    "    def __init__(self, x, y):\n",
    "        self.num = x\n",
    "        self.deno = y\n",
    "\n",
    "    def __str__(self):\n",
    "        return f\"{self.num}/{self.deno}\"\n",
    "\n",
    "    def __add__(self, other):\n",
    "\n",
    "        new_num = self.num*other.deno+other.num*self.deno\n",
    "        new_deno = self.deno*other.deno\n",
    "        return f\"{new_num}/{new_deno}\"\n",
    "\n",
    "    def __sub__(self, other):\n",
    "\n",
    "        new_num = self.num*other.deno-other.num*self.deno\n",
    "        new_deno = self.deno*other.deno\n",
    "        return f\"{new_num}/{new_deno}\"\n",
    "\n",
    "    def __mul__(self, other):\n",
    "        new_num = self.num*other.num\n",
    "        new_deno = self.deno*other.deno\n",
    "        return f\"{new_num}/{new_deno}\"\n",
    "\n",
    "    def __truediv__(self, other):\n",
    "        new_num = self.num*other.deno\n",
    "        new_deno = self.deno*other.num\n",
    "        return f\"{new_num}/{new_deno}\""
   ]
  },
  {
   "cell_type": "code",
   "execution_count": 2,
   "id": "c8719630",
   "metadata": {},
   "outputs": [
    {
     "name": "stdout",
     "output_type": "stream",
     "text": [
      "3/4\n",
      "10/8\n"
     ]
    }
   ],
   "source": [
    "obj = Fraction(3, 4)\n",
    "obj1 = Fraction(1, 2)\n",
    "print(obj)\n",
    "print(obj+obj1)"
   ]
  },
  {
   "cell_type": "markdown",
   "id": "833ee91f",
   "metadata": {},
   "source": [
    "### Creating 2-D Co-ordinate"
   ]
  },
  {
   "cell_type": "markdown",
   "id": "ffe9fb6d",
   "metadata": {},
   "source": [
    "Write OOP classes to handle the following scenarios:\n",
    "1. A user can create and view 2D coordinates\n",
    "2. A user can find out the distance between 2 coordinates\n",
    "3. A user can find find the distance of a coordinate from origin\n",
    "4. A user can check if a point lies on a given line\n",
    "5. A user can find the distance between a given 2D point and a given line"
   ]
  },
  {
   "cell_type": "code",
   "execution_count": 3,
   "id": "6f07cdbd",
   "metadata": {},
   "outputs": [],
   "source": [
    "class point:\n",
    "    \n",
    "    def __init__(self,x,y):\n",
    "        self.x_cord = x\n",
    "        self.y_cord = y\n",
    "     \n",
    "     \n",
    "    # A user can create and view 2D coordinates   \n",
    "    def __str__(self):\n",
    "        return f\"<{self.x_cord},{self.y_cord}>\"\n",
    "      \n",
    "    # A user can find out the distance between 2 coordinates    \n",
    "    def euclidean_distance(self,other):\n",
    "        return ((self.x_cord - other.x_cord)**2 + (self.y_cord - other.y_cord)**2)**0.5 \n",
    "\n",
    "    # A user can find find the distance of a coordinate from origin\n",
    "    def distance_from_origin(self):\n",
    "        return self.euclidean_distance(point(0,0))\n",
    "   \n",
    "    \n",
    "# A user can check if a point lies on a given line\n",
    "class line:\n",
    "    \n",
    "    def __init__(self,A,B,C):\n",
    "\n",
    "        self.A=A\n",
    "        self.B=B\n",
    "        self.C=C\n",
    "        \n",
    "    def __str__(self):\n",
    "        return f\"{self.A}x + {self.B}y + {self.C} = 0\"\n",
    "\n",
    "    # A user can check if a point lies on a given line : put the value of x and y if the answer is 0 then its True\n",
    "    def check_line(line,point):\n",
    "        if line.A*point.x_cord + line.B*point.y_cord + line.C == 0:\n",
    "            return \"lies on the Line\"\n",
    "        else:\n",
    "            return \"does not lies on the line\"\n",
    "        \n",
    "    # A user can find the distance between a given 2D point and a given line\n",
    "    def shortest_distance(line,point):\n",
    "        return abs(line.A * point.x_cord + line.B*point.y_cord + line.C) / ((line.A)**2 + (line.B)**2)**0.5"
   ]
  },
  {
   "cell_type": "code",
   "execution_count": 4,
   "id": "1697394f",
   "metadata": {},
   "outputs": [
    {
     "name": "stdout",
     "output_type": "stream",
     "text": [
      "5.830951894845301\n"
     ]
    }
   ],
   "source": [
    "# class point\n",
    "\n",
    "p1=point(5,3)\n",
    "p2=point(7,8)\n",
    "# print(p1.euclidean_distance(p2))\n",
    "print(p1.distance_from_origin())"
   ]
  },
  {
   "cell_type": "code",
   "execution_count": 5,
   "id": "3bcd3c17",
   "metadata": {},
   "outputs": [
    {
     "name": "stdout",
     "output_type": "stream",
     "text": [
      "1x + 1y + -2 = 0\n",
      "<1,10>\n"
     ]
    }
   ],
   "source": [
    "# class line\n",
    "\n",
    "l1=line(1,1,-2)\n",
    "p1=point(1,10)\n",
    "print(l1)\n",
    "print(p1)"
   ]
  },
  {
   "cell_type": "markdown",
   "id": "9c5b7328",
   "metadata": {},
   "source": [
    "### How objects access attributes"
   ]
  },
  {
   "cell_type": "code",
   "execution_count": 6,
   "id": "6a511959",
   "metadata": {},
   "outputs": [],
   "source": [
    "class person:\n",
    "    \n",
    "    def __init__(self,name_input,country_input) -> None:\n",
    "\n",
    "        self.name=name_input\n",
    "        self.country=country_input\n",
    "        \n",
    "    def greet(self):\n",
    "        if self.country=='India':\n",
    "            print(\"Namaste\",self.name)\n",
    "        else:\n",
    "            print(\"Hello\",self.name)"
   ]
  },
  {
   "cell_type": "code",
   "execution_count": 7,
   "id": "ab1b2424",
   "metadata": {},
   "outputs": [
    {
     "name": "stdout",
     "output_type": "stream",
     "text": [
      "Namaste Anuj\n",
      "None\n"
     ]
    }
   ],
   "source": [
    "# when we create an object of a class the object  has the  power to access all the Attributes and methods present in that particular class\n",
    "\n",
    "p=person('Anuj','India')\n",
    "print(p.greet())"
   ]
  },
  {
   "cell_type": "markdown",
   "id": "8fc2b698",
   "metadata": {},
   "source": [
    "### Reference Variables\n",
    "- Reference variables hold the objects\n",
    "- We can create objects without reference variable as well\n",
    "- An object can have multiple reference variables\n",
    "- Assigning a new reference variable to an existing object does not create a new object"
   ]
  },
  {
   "cell_type": "code",
   "execution_count": 8,
   "id": "cf84056e",
   "metadata": {},
   "outputs": [],
   "source": [
    "class person:\n",
    "    \n",
    "    def __init__(self) -> None:\n",
    "        self.name='Anuj'\n",
    "        self.gender='Male'"
   ]
  },
  {
   "cell_type": "code",
   "execution_count": 9,
   "id": "b161990f",
   "metadata": {},
   "outputs": [
    {
     "data": {
      "text/plain": [
       "<__main__.person at 0x1b35ecede80>"
      ]
     },
     "execution_count": 9,
     "metadata": {},
     "output_type": "execute_result"
    }
   ],
   "source": [
    "person()"
   ]
  },
  {
   "cell_type": "code",
   "execution_count": 10,
   "id": "7a7e720b",
   "metadata": {},
   "outputs": [],
   "source": [
    "# p=person()\n",
    "# p is not the object. Its is a reference variable which stores the reference/Address of the object"
   ]
  },
  {
   "cell_type": "code",
   "execution_count": 11,
   "id": "9a3ef9bc",
   "metadata": {},
   "outputs": [],
   "source": [
    "q=p"
   ]
  },
  {
   "cell_type": "code",
   "execution_count": 12,
   "id": "4c42d498",
   "metadata": {},
   "outputs": [
    {
     "name": "stdout",
     "output_type": "stream",
     "text": [
      "1869901386512\n",
      "1869901386512\n"
     ]
    }
   ],
   "source": [
    "print(id(p))\n",
    "print(id(q))"
   ]
  },
  {
   "cell_type": "code",
   "execution_count": 13,
   "id": "428cb478",
   "metadata": {},
   "outputs": [
    {
     "name": "stdout",
     "output_type": "stream",
     "text": [
      "Anuj\n",
      "Anuj\n",
      "Rahul\n",
      "Rahul\n"
     ]
    }
   ],
   "source": [
    "# change attribute value with the help of 2nd object\n",
    "print(p.name)\n",
    "print(q.name)\n",
    "q.name=\"Rahul\"\n",
    "print(p.name)\n",
    "print(q.name)\n",
    "\n",
    "# because both the object are pointing to the same value"
   ]
  },
  {
   "cell_type": "markdown",
   "id": "5e6f7c17",
   "metadata": {},
   "source": [
    "### Pass by Reference"
   ]
  },
  {
   "cell_type": "code",
   "execution_count": 14,
   "id": "42625c9d",
   "metadata": {},
   "outputs": [],
   "source": [
    "class Person:\n",
    "    \n",
    "    def __init__(self,name,gender):\n",
    "        self.name = name\n",
    "        self.gender = gender\n",
    "\n",
    "# outside the class -> function\n",
    "def greet(person):\n",
    "     \n",
    "    print('Hi my name is',person.name,'and I am a',person.gender)\n",
    "    p1=Person('Rahul','Male')\n",
    "    return p1"
   ]
  },
  {
   "cell_type": "code",
   "execution_count": 15,
   "id": "1c8864fd",
   "metadata": {},
   "outputs": [
    {
     "name": "stdout",
     "output_type": "stream",
     "text": [
      "Hi my name is Anuj and I am a Male\n",
      "Rahul\n",
      "Male\n"
     ]
    }
   ],
   "source": [
    "p = Person('Anuj','Male')\n",
    "x=greet(p)\n",
    "print(x.name)\n",
    "print(x.gender)"
   ]
  },
  {
   "cell_type": "code",
   "execution_count": 17,
   "id": "0c0ffbfd",
   "metadata": {},
   "outputs": [
    {
     "name": "stdout",
     "output_type": "stream",
     "text": [
      "1869901389056\n",
      "1869901389056\n",
      "ankit\n",
      "ankit\n"
     ]
    }
   ],
   "source": [
    "class Person:\n",
    "\n",
    "  def __init__(self,name,gender):\n",
    "    self.name = name\n",
    "    self.gender = gender\n",
    "\n",
    "# outside the class -> function\n",
    "def greet(person):\n",
    "  print(id(person))\n",
    "  person.name = 'ankit'\n",
    "  print(person.name)\n",
    "\n",
    "p = Person('nitish','male')\n",
    "print(id(p))\n",
    "greet(p)\n",
    "print(p.name)\n",
    "\n",
    "# both the ids will be same as both of them are pointing towards the same address"
   ]
  },
  {
   "cell_type": "markdown",
   "id": "5c38418b",
   "metadata": {},
   "source": [
    "### Object mutability"
   ]
  },
  {
   "cell_type": "code",
   "execution_count": 19,
   "id": "58b02e40",
   "metadata": {},
   "outputs": [
    {
     "name": "stdout",
     "output_type": "stream",
     "text": [
      "1869901391040\n",
      "1869901391040\n"
     ]
    }
   ],
   "source": [
    "class Person:\n",
    "\n",
    "  def __init__(self,name,gender):\n",
    "    self.name = name\n",
    "    self.gender = gender\n",
    "\n",
    "# outside the class -> function\n",
    "def greet(person):\n",
    "  person.name = 'ankit'\n",
    "  return person\n",
    "\n",
    "p = Person('nitish','male')\n",
    "print(id(p))\n",
    "p1 = greet(p)\n",
    "print(id(p1))"
   ]
  }
 ],
 "metadata": {
  "kernelspec": {
   "display_name": "Python 3 (ipykernel)",
   "language": "python",
   "name": "python3"
  },
  "language_info": {
   "codemirror_mode": {
    "name": "ipython",
    "version": 3
   },
   "file_extension": ".py",
   "mimetype": "text/x-python",
   "name": "python",
   "nbconvert_exporter": "python",
   "pygments_lexer": "ipython3",
   "version": "3.9.7"
  }
 },
 "nbformat": 4,
 "nbformat_minor": 5
}
